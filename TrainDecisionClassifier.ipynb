{
 "cells": [
  {
   "cell_type": "markdown",
   "id": "ff3956a5",
   "metadata": {},
   "source": [
    "# GILL Decision Classifier\n",
    "\n",
    "At least ~18GB of GPU memory is required to run this model, and it has only been tested on A6000, V100, and 3090 GPUs."
   ]
  },
  {
   "cell_type": "code",
   "execution_count": 1,
   "id": "d56d8381",
   "metadata": {},
   "outputs": [],
   "source": [
    "import collections\n",
    "import matplotlib.pyplot as plt\n",
    "import numpy as np\n",
    "import os\n",
    "from PIL import Image\n",
    "import torch\n",
    "from torch import nn\n",
    "import torchmetrics\n",
    "from tqdm import notebook\n",
    "\n",
    "from gill import models\n",
    "from gill import utils"
   ]
  },
  {
   "cell_type": "markdown",
   "id": "d5c2e552",
   "metadata": {},
   "source": [
    "## Load the Model\n",
    "\n",
    "Note that you will need to download the [CC3M image embeddings](https://drive.google.com/file/d/1e9Cimh2dpWN8Cbgx_mSR-954Dr-DS-ZO/view) and place them in the `checkpoints/gill_opt/` folder, in order to use GILL's image retrieval capabilities. If this embedding file does not exist, we will not use the retrieval score as a feature for the decision classifier, and results may be slightly different from the paper."
   ]
  },
  {
   "cell_type": "code",
   "execution_count": 2,
   "id": "3176f147",
   "metadata": {
    "scrolled": true
   },
   "outputs": [
    {
     "name": "stdout",
     "output_type": "stream",
     "text": [
      "cc3m.npy files do not exist in checkpoints/gill_opt/.\n",
      "Running the model without retrieval.\n",
      "Adding [IMG0] token to vocabulary.\n",
      "Before adding new token, tokenizer(\"[IMG0]\") = {'input_ids': [10975, 3755, 534, 288, 742], 'attention_mask': [1, 1, 1, 1, 1]}\n",
      "After adding 1 new tokens, tokenizer(\"[IMG0]\") = {'input_ids': [50266], 'attention_mask': [1]}\n",
      "Adding [IMG1] token to vocabulary.\n",
      "Before adding new token, tokenizer(\"[IMG1]\") = {'input_ids': [10975, 3755, 534, 134, 742], 'attention_mask': [1, 1, 1, 1, 1]}\n",
      "After adding 1 new tokens, tokenizer(\"[IMG1]\") = {'input_ids': [50267], 'attention_mask': [1]}\n",
      "Adding [IMG2] token to vocabulary.\n",
      "Before adding new token, tokenizer(\"[IMG2]\") = {'input_ids': [10975, 3755, 534, 176, 742], 'attention_mask': [1, 1, 1, 1, 1]}\n",
      "After adding 1 new tokens, tokenizer(\"[IMG2]\") = {'input_ids': [50268], 'attention_mask': [1]}\n",
      "Adding [IMG3] token to vocabulary.\n",
      "Before adding new token, tokenizer(\"[IMG3]\") = {'input_ids': [10975, 3755, 534, 246, 742], 'attention_mask': [1, 1, 1, 1, 1]}\n",
      "After adding 1 new tokens, tokenizer(\"[IMG3]\") = {'input_ids': [50269], 'attention_mask': [1]}\n",
      "Adding [IMG4] token to vocabulary.\n",
      "Before adding new token, tokenizer(\"[IMG4]\") = {'input_ids': [10975, 3755, 534, 306, 742], 'attention_mask': [1, 1, 1, 1, 1]}\n",
      "After adding 1 new tokens, tokenizer(\"[IMG4]\") = {'input_ids': [50270], 'attention_mask': [1]}\n",
      "Adding [IMG5] token to vocabulary.\n",
      "Before adding new token, tokenizer(\"[IMG5]\") = {'input_ids': [10975, 3755, 534, 245, 742], 'attention_mask': [1, 1, 1, 1, 1]}\n",
      "After adding 1 new tokens, tokenizer(\"[IMG5]\") = {'input_ids': [50271], 'attention_mask': [1]}\n",
      "Adding [IMG6] token to vocabulary.\n",
      "Before adding new token, tokenizer(\"[IMG6]\") = {'input_ids': [10975, 3755, 534, 401, 742], 'attention_mask': [1, 1, 1, 1, 1]}\n",
      "After adding 1 new tokens, tokenizer(\"[IMG6]\") = {'input_ids': [50272], 'attention_mask': [1]}\n",
      "Adding [IMG7] token to vocabulary.\n",
      "Before adding new token, tokenizer(\"[IMG7]\") = {'input_ids': [10975, 3755, 534, 406, 742], 'attention_mask': [1, 1, 1, 1, 1]}\n",
      "After adding 1 new tokens, tokenizer(\"[IMG7]\") = {'input_ids': [50273], 'attention_mask': [1]}\n",
      "Using HuggingFace AutoFeatureExtractor for openai/clip-vit-large-patch14.\n",
      "Using facebook/opt-6.7b for the language model.\n",
      "Using openai/clip-vit-large-patch14 for the visual model with 4 visual tokens.\n"
     ]
    },
    {
     "data": {
      "application/vnd.jupyter.widget-view+json": {
       "model_id": "3f1dc49677fb42668ffc48b0bbd23a3c",
       "version_major": 2,
       "version_minor": 0
      },
      "text/plain": [
       "Loading checkpoint shards:   0%|          | 0/2 [00:00<?, ?it/s]"
      ]
     },
     "metadata": {},
     "output_type": "display_data"
    },
    {
     "name": "stdout",
     "output_type": "stream",
     "text": [
      "Freezing the LM.\n",
      "Restoring pretrained weights for the visual model.\n",
      "Freezing the VM.\n"
     ]
    },
    {
     "data": {
      "application/vnd.jupyter.widget-view+json": {
       "model_id": "2c5ba1f7677d4d388f77b52293f74538",
       "version_major": 2,
       "version_minor": 0
      },
      "text/plain": [
       "Loading pipeline components...:   0%|          | 0/7 [00:00<?, ?it/s]"
      ]
     },
     "metadata": {},
     "output_type": "display_data"
    },
    {
     "name": "stderr",
     "output_type": "stream",
     "text": [
      "`text_config_dict` is provided which will be used to initialize `CLIPTextConfig`. The value `text_config[\"id2label\"]` will be overriden.\n",
      "`text_config_dict` is provided which will be used to initialize `CLIPTextConfig`. The value `text_config[\"bos_token_id\"]` will be overriden.\n",
      "`text_config_dict` is provided which will be used to initialize `CLIPTextConfig`. The value `text_config[\"eos_token_id\"]` will be overriden.\n"
     ]
    }
   ],
   "source": [
    "# Download the model checkpoint and embeddings to checkpoints/gill_opt/\n",
    "model_dir = 'checkpoints/gill_opt/'\n",
    "model = models.load_gill(model_dir, decision_model_fn=None)"
   ]
  },
  {
   "cell_type": "markdown",
   "id": "4fd5d198",
   "metadata": {},
   "source": [
    "# Load PartiPrompts\n",
    "\n",
    "Load the preprocessed PartiPrompts annotations, after discarding examples with low interannotator agreement. Please see `scripts/process_p2_annotations.py` for more details."
   ]
  },
  {
   "cell_type": "code",
   "execution_count": 3,
   "id": "15979263",
   "metadata": {},
   "outputs": [
    {
     "name": "stdout",
     "output_type": "stream",
     "text": [
      "1632\n"
     ]
    }
   ],
   "source": [
    "dec2idx = {'gen': 0, 'ret': 1, 'same': 2}\n",
    "idx2dec = {v: k for k, v in dec2idx.items()}\n",
    "\n",
    "with open('data/PartiPromptsDecisionsConfident.tsv', 'r') as f:\n",
    "    captions = []\n",
    "    decisions = []\n",
    "\n",
    "    for i, line in enumerate(f.readlines()[1:]):\n",
    "        data = line.strip().split('\\t')\n",
    "        captions.append(data[0])\n",
    "        decisions.append(dec2idx[data[4]])\n",
    "\n",
    "assert len(captions) == len(decisions)\n",
    "print(len(captions))"
   ]
  },
  {
   "cell_type": "markdown",
   "id": "06ec6de3",
   "metadata": {},
   "source": [
    "## Extract Embeddings from GILL"
   ]
  },
  {
   "cell_type": "code",
   "execution_count": 4,
   "id": "37b09bcf",
   "metadata": {},
   "outputs": [
    {
     "data": {
      "application/vnd.jupyter.widget-view+json": {
       "model_id": "e5710aead105435e9a60e0818837540d",
       "version_major": 2,
       "version_minor": 0
      },
      "text/plain": [
       "  0%|          | 0/1632 [00:00<?, ?it/s]"
      ]
     },
     "metadata": {},
     "output_type": "display_data"
    }
   ],
   "source": [
    "all_embeddings = []\n",
    "all_labels = []\n",
    "\n",
    "# Create special token string, to let us extract the IMG token features.\n",
    "img_inp = ''\n",
    "for i in range(model.model.num_tokens):\n",
    "    img_inp += f'[IMG{i}]'\n",
    "\n",
    "for i in notebook.tqdm(range(len(captions))):\n",
    "    caption = captions[i]\n",
    "\n",
    "    caption = caption + img_inp\n",
    "    inp_tokens = model.model.tokenizer(caption, add_special_tokens=True, return_tensors=\"pt\")\n",
    "    inp_tokens_ids = inp_tokens.input_ids.cuda()\n",
    "    inp_caption_len = inp_tokens.attention_mask[0].sum(0, keepdim=True).cuda()\n",
    "\n",
    "    # Dummy images, since we are only running the captions.\n",
    "    images = torch.zeros((1, 3, 224, 224)).bfloat16().cuda()\n",
    "    \n",
    "    if idx2dec[decisions[i]] != 'same':\n",
    "        with torch.no_grad():\n",
    "            _, _, _, _, _, _, _, llm_embedding = model(\n",
    "                images, inp_tokens_ids, inp_caption_len, mode='generation', concat_captions=False)\n",
    "            all_embeddings.append(llm_embedding[0].float().detach().cpu().numpy())\n",
    "            all_labels.append(decisions[i])"
   ]
  },
  {
   "cell_type": "markdown",
   "id": "8c6ea208",
   "metadata": {},
   "source": [
    "## Train a Decision Model"
   ]
  },
  {
   "cell_type": "code",
   "execution_count": 5,
   "id": "5d784a46",
   "metadata": {},
   "outputs": [
    {
     "data": {
      "application/vnd.jupyter.widget-view+json": {
       "model_id": "e128e10306404257902037b12f836190",
       "version_major": 2,
       "version_minor": 0
      },
      "text/plain": [
       "  0%|          | 0/2000 [00:00<?, ?it/s]"
      ]
     },
     "metadata": {},
     "output_type": "display_data"
    },
    {
     "data": {
      "image/png": "[encoded data removed]",
      "text/plain": [
       "<Figure size 640x480 with 1 Axes>"
      ]
     },
     "metadata": {},
     "output_type": "display_data"
    },
    {
     "name": "stdout",
     "output_type": "stream",
     "text": [
      "Best F1: 0.5436410903930664\n",
      "Last F1: 0.5325511693954468\n"
     ]
    }
   ],
   "source": [
    "num_train = 600  # Use 600 examples for training and the remaining for validation\n",
    "all_f1s = []\n",
    "torch.manual_seed(1337)\n",
    "f1 = torchmetrics.F1Score(task='multiclass', num_classes=2, average='macro').cuda()\n",
    "\n",
    "# Concatenate examples for training the decision model.\n",
    "features = np.concatenate(all_embeddings, axis=0)[:, 0, :]\n",
    "train_data = torch.tensor(features[:num_train, :]).float().cuda()\n",
    "train_labels = torch.tensor(all_labels[:num_train], dtype=torch.long).cuda()\n",
    "test_data = torch.tensor(features[num_train:, :]).float().cuda()\n",
    "test_labels = torch.tensor(all_labels[num_train:], dtype=torch.long).cuda()\n",
    "\n",
    "# Create decision model.\n",
    "decision_clf = nn.Sequential(*[\n",
    "    nn.Dropout(0.5),\n",
    "    nn.Linear(features.shape[1], 2),\n",
    "])\n",
    "decision_clf = decision_clf.cuda()\n",
    "optimizer = torch.optim.AdamW(decision_clf.parameters(), lr=1e-3, weight_decay=0, eps=1e-8)\n",
    "\n",
    "\n",
    "# Start the training loop.\n",
    "num_steps = 2000\n",
    "ce_loss = nn.CrossEntropyLoss()\n",
    "plots = collections.defaultdict(list)\n",
    "\n",
    "for i in notebook.tqdm(range(num_steps)):\n",
    "    train_preds = decision_clf(train_data)\n",
    "    loss = ce_loss(train_preds, train_labels)\n",
    "\n",
    "    if i % 100 == 0 or i == num_steps - 1:\n",
    "        decision_clf.eval()\n",
    "        train_f1 = f1(train_preds, train_labels).item()\n",
    "        best = 0\n",
    "        worst = 1\n",
    "        best_thresh = None\n",
    "\n",
    "        # We use 0.5 as the threshold for classification.\n",
    "        # Optionally sweep over np.linspace(0, 1, num=50) to find the best threshold.\n",
    "        for thresh in [0.5]:\n",
    "            test_preds = decision_clf(test_data)\n",
    "            test_preds = (torch.nn.functional.softmax(test_preds, dim=-1) > thresh).float()\n",
    "            curr_f1 = f1(test_preds, test_labels).item()\n",
    "            if curr_f1 > best:\n",
    "                best = curr_f1\n",
    "                best_thresh = thresh\n",
    "            if curr_f1 < worst:\n",
    "                worst = curr_f1\n",
    "        decision_clf.train()\n",
    "\n",
    "        plots['train/loss'].append(loss.item())\n",
    "        plots['train/f1'].append(train_f1)\n",
    "        plots['val/f1'].append(best)\n",
    "        plots['val/cutoff'].append(best_thresh)\n",
    "\n",
    "    loss.backward()\n",
    "    optimizer.step()\n",
    "    optimizer.zero_grad()\n",
    "\n",
    "for k, v in plots.items():\n",
    "    if 'f1' in k:\n",
    "        plt.plot(v, label=k)\n",
    "\n",
    "plt.axhline(y=0.8510681024099351, color='r', linestyle='--', label='Human Performance (val)')\n",
    "plt.ylabel('F1 Score')\n",
    "plt.xlabel('Steps (10e2)')\n",
    "\n",
    "plt.legend()\n",
    "plt.show()\n",
    "print('Best F1:', np.max(plots['val/f1']))\n",
    "print('Last F1:', plots['val/f1'][-1])"
   ]
  },
  {
   "cell_type": "markdown",
   "id": "d9960b3a",
   "metadata": {},
   "source": [
    "Finally, we can save the decision model to disk (and later on, load it for inference)."
   ]
  },
  {
   "cell_type": "code",
   "execution_count": 8,
   "id": "df50b02d",
   "metadata": {},
   "outputs": [
    {
     "name": "stdout",
     "output_type": "stream",
     "text": [
      "Saved to checkpoints/gill_opt/decision_model.pth.tar\n"
     ]
    }
   ],
   "source": [
    "output_path = os.path.join(model_dir, 'decision_model.pth.tar')\n",
    "with open(output_path, 'wb') as wf:\n",
    "    torch.save({\n",
    "        'state_dict': decision_clf.state_dict()\n",
    "    }, wf)\n",
    "    print('Saved to', output_path)"
   ]
  },
  {
   "cell_type": "code",
   "execution_count": null,
   "id": "58ec3d4c",
   "metadata": {},
   "outputs": [],
   "source": []
  }
 ],
 "metadata": {
  "kernelspec": {
   "display_name": "Python 3 (ipykernel)",
   "language": "python",
   "name": "python3"
  },
  "language_info": {
   "codemirror_mode": {
    "name": "ipython",
    "version": 3
   },
   "file_extension": ".py",
   "mimetype": "text/x-python",
   "name": "python",
   "nbconvert_exporter": "python",
   "pygments_lexer": "ipython3",
   "version": "3.10.4"
  }
 },
 "nbformat": 4,
 "nbformat_minor": 5
}

{
 "cells": [
  {
   "cell_type": "code",
   "execution_count": 1,
   "metadata": {},
   "outputs": [],
   "source": [
    "!export CUDA_VISIBLE_DEVICES=0"
   ]
  },
  {
   "cell_type": "code",
   "execution_count": 2,
   "metadata": {},
   "outputs": [],
   "source": [
    "from transformers import AutoTokenizer, AutoProcessor\n",
    "\n",
    "from qwen2_vl.modeling_qwen2_vl import Qwen2VLForConditionalGeneration\n",
    "from qwen_vl_utils import process_vision_info\n"
   ]
  },
  {
   "cell_type": "code",
   "execution_count": 3,
   "metadata": {},
   "outputs": [
    {
     "name": "stderr",
     "output_type": "stream",
     "text": [
      "Unrecognized keys in `rope_scaling` for 'rope_type'='default': {'mrope_section'}\n",
      "`Qwen2VLRotaryEmbedding` can now be fully parameterized by passing the model config through the `config` argument. All other arguments will be removed in v4.46\n"
     ]
    },
    {
     "data": {
      "application/vnd.jupyter.widget-view+json": {
       "model_id": "d7b3816cb1bf461db77e99412274c9c5",
       "version_major": 2,
       "version_minor": 0
      },
      "text/plain": [
       "Loading checkpoint shards:   0%|          | 0/2 [00:00<?, ?it/s]"
      ]
     },
     "metadata": {},
     "output_type": "display_data"
    },
    {
     "name": "stderr",
     "output_type": "stream",
     "text": [
      "We've detected an older driver with an RTX 4000 series GPU. These drivers have issues with P2P. This can affect the multi-gpu inference when using accelerate device_map.Please make sure to update your driver to the latest version which resolves this.\n"
     ]
    },
    {
     "name": "stdout",
     "output_type": "stream",
     "text": [
      "processor loaded\n"
     ]
    }
   ],
   "source": [
    "# default: Load the model on the available device(s)\n",
    "model = Qwen2VLForConditionalGeneration.from_pretrained(\n",
    "    \"Qwen/Qwen2-VL-2B-Instruct\", torch_dtype=\"auto\", device_map=\"auto\"\n",
    ")\n",
    "\n",
    "# We recommend enabling flash_attention_2 for better acceleration and memory saving, especially in multi-image and video scenarios.\n",
    "# model = Qwen2VLForConditionalGeneration.from_pretrained(\n",
    "#     \"Qwen/Qwen2-VL-2B-Instruct\",\n",
    "#     torch_dtype=torch.bfloat16,\n",
    "#     attn_implementation=\"flash_attention_2\",\n",
    "#     device_map=\"auto\",\n",
    "# )\n",
    "\n",
    "# default processer\n",
    "# processor = AutoProcessor.from_pretrained(\"Qwen/Qwen2-VL-2B-Instruct\")\n",
    "\n",
    "# The default range for the number of visual tokens per image in the model is 4-16384.\n",
    "# You can set min_pixels and max_pixels according to your needs, such as a token range of 256-1280, to balance performance and cost.\n",
    "min_pixels = 4*28*28\n",
    "max_pixels = 32*28*28\n",
    "processor = AutoProcessor.from_pretrained(\"Qwen/Qwen2-VL-2B-Instruct\", min_pixels=min_pixels, max_pixels=max_pixels)\n",
    "print(\"processor loaded\")"
   ]
  },
  {
   "cell_type": "code",
   "execution_count": 4,
   "metadata": {},
   "outputs": [
    {
     "name": "stdout",
     "output_type": "stream",
     "text": [
      "<|im_start|>system\n",
      "You are a helpful assistant.<|im_end|>\n",
      "<|im_start|>user\n",
      "<|vision_start|><|image_pad|><|vision_end|>Describe this image.<|im_end|>\n",
      "<|im_start|>assistant\n",
      "\n",
      "{'input_ids': tensor([[151644,   8948,    198,   2610,    525,    264,  10950,  17847,     13,\n",
      "         151645,    198, 151644,    872,    198, 151652, 151655, 151655, 151655,\n",
      "         151655, 151655, 151655, 151655, 151655, 151655, 151655, 151655, 151655,\n",
      "         151655, 151655, 151655, 151655, 151655, 151655, 151655, 151655, 151655,\n",
      "         151655, 151655, 151655, 151653,  74785,    419,   2168,     13, 151645,\n",
      "            198, 151644,  77091,    198]]), 'attention_mask': tensor([[1, 1, 1, 1, 1, 1, 1, 1, 1, 1, 1, 1, 1, 1, 1, 1, 1, 1, 1, 1, 1, 1, 1, 1,\n",
      "         1, 1, 1, 1, 1, 1, 1, 1, 1, 1, 1, 1, 1, 1, 1, 1, 1, 1, 1, 1, 1, 1, 1, 1,\n",
      "         1]]), 'pixel_values': tensor([[ 0.9230,  0.9814,  1.0544,  ...,  1.9184,  1.9468,  1.9468],\n",
      "        [ 1.5070,  1.5216,  1.5508,  ...,  2.0464,  2.0464,  2.0606],\n",
      "        [ 1.5362,  1.5508,  1.5800,  ...,  2.0179,  2.0179,  2.0464],\n",
      "        ...,\n",
      "        [ 1.3172,  1.2004,  1.2296,  ...,  0.0840,  0.0698, -0.0156],\n",
      "        [ 0.9376,  0.6311,  0.7479,  ...,  0.3684,  0.3257,  0.2688],\n",
      "        [ 0.6457,  0.6019,  0.5289,  ..., -0.1151, -0.2573, -0.3000]]), 'image_grid_thw': tensor([[ 1,  8, 12]])}\n"
     ]
    }
   ],
   "source": [
    "messages = [\n",
    "    {\n",
    "        \"role\": \"user\",\n",
    "        \"content\": [\n",
    "            {\n",
    "                \"type\": \"image\",\n",
    "                \"image\": \"/home/lxy/Documents/gill-vl/demo.jpeg\",\n",
    "            },\n",
    "            {\"type\": \"text\", \"text\": \"Describe this image.\"},\n",
    "        ],\n",
    "    }\n",
    "]\n",
    "\n",
    "# Preparation for inference\n",
    "text = processor.apply_chat_template(\n",
    "    messages, tokenize=False, add_generation_prompt=True\n",
    ")\n",
    "print(text)\n",
    "image_inputs, video_inputs = process_vision_info(messages)\n",
    "inputs = processor(\n",
    "    text=[text],\n",
    "    images=image_inputs,\n",
    "    videos=video_inputs,\n",
    "    padding=True,\n",
    "    return_tensors=\"pt\",\n",
    ")\n",
    "print(inputs)\n",
    "inputs = inputs.to(\"cuda\")"
   ]
  },
  {
   "cell_type": "code",
   "execution_count": 5,
   "metadata": {},
   "outputs": [
    {
     "name": "stdout",
     "output_type": "stream",
     "text": [
      "['The image shows a woman and her dog sitting in the water at the beach. The woman is holding a cup, possibly enjoying a drink, while the dog is looking at her. The background features the ocean and the sky, suggesting a serene and relaxing day at the beach.']\n"
     ]
    }
   ],
   "source": [
    "# Inference: Generation of the output\n",
    "generated_ids = model.generate(**inputs, max_new_tokens=1024)\n",
    "generated_ids_trimmed = [\n",
    "    out_ids[len(in_ids) :] for in_ids, out_ids in zip(inputs.input_ids, generated_ids)\n",
    "]\n",
    "output_text = processor.batch_decode(\n",
    "    generated_ids_trimmed, skip_special_tokens=True, clean_up_tokenization_spaces=False\n",
    ")\n",
    "print(output_text)"
   ]
  },
  {
   "cell_type": "code",
   "execution_count": 6,
   "metadata": {},
   "outputs": [
    {
     "name": "stdout",
     "output_type": "stream",
     "text": [
      "[' Intersection\\n\\nWhat are a professional assistant. I\\n\\n:I\\n\\n海滩狗\\n\\n的。在犬狗的女人女人由边\\n\\n。酒落。拉拉里水里( the image\\nuser:The']\n"
     ]
    }
   ],
   "source": [
    "import torch\n",
    "# Use model.forward() to get the predicted logits for the input data.\n",
    "outputs = model(**inputs, output_hidden_states=True)\n",
    "hidden_states = outputs.hidden_states\n",
    "logits = outputs.logits\n",
    "# get output_ids\n",
    "output_ids = torch.argmax(logits, dim=-1)\n",
    "# decode\n",
    "decoded_output = processor.batch_decode(output_ids, skip_special_tokens=True, clean_up_tokenization_spaces=False)\n",
    "print(decoded_output)"
   ]
  },
  {
   "cell_type": "code",
   "execution_count": 7,
   "metadata": {},
   "outputs": [],
   "source": [
    "from PIL import Image\n",
    "\n",
    "image = Image.open(\"/home/lxy/Documents/gill-vl/demo.jpeg\")\n",
    "visual_model = model.visual\n"
   ]
  },
  {
   "cell_type": "code",
   "execution_count": 8,
   "metadata": {},
   "outputs": [
    {
     "data": {
      "text/plain": [
       "151643"
      ]
     },
     "execution_count": 8,
     "metadata": {},
     "output_type": "execute_result"
    }
   ],
   "source": [
    "tokenizer = processor.tokenizer\n",
    "tokenizer.pad_token_id"
   ]
  },
  {
   "cell_type": "code",
   "execution_count": 9,
   "metadata": {},
   "outputs": [
    {
     "name": "stdout",
     "output_type": "stream",
     "text": [
      "<|im_start|>assistant\n",
      "<|vision_start|><|image_pad|><|vision_end|>actor attends the premiere of film[IMG0][IMG1][IMG2][IMG3][IMG4][IMG5][IMG6][IMG7]\n"
     ]
    },
    {
     "data": {
      "text/plain": [
       "tensor([151644,  77091,    198, 151652, 151655, 151655, 151655, 151655, 151655,\n",
       "        151655, 151655, 151655, 151655, 151655, 151655, 151655, 151655, 151655,\n",
       "        151655, 151655, 151655, 151655, 151655, 151655, 151655, 151655, 151655,\n",
       "        151655, 151653,   5621,  74012,    279,  34852,    315,   4531,     58,\n",
       "         30346,     15,   1457,  30346,     16,   1457,  30346,     17,   1457,\n",
       "         30346,     18,   1457,  30346,     19,   1457,  30346,     20,   1457,\n",
       "         30346,     21,   1457,  30346,     22,     60])"
      ]
     },
     "execution_count": 9,
     "metadata": {},
     "output_type": "execute_result"
    }
   ],
   "source": [
    "caption = \"actor attends the premiere of film\"\n",
    "image_path = \"/home/lxy/Downloads/cc3m/training/000979440.jpg\"\n",
    "messages = [  # just for fitting the format to extract image pixel_values\n",
    "{\n",
    "    \"role\": \"user\",\n",
    "    \"content\": [\n",
    "    {\n",
    "        \"type\": \"image\",\n",
    "        \"image\": image_path,\n",
    "    },\n",
    "    {\n",
    "        \"type\": \"text\",\n",
    "        \"text\": caption,\n",
    "    }\n",
    "    ]\n",
    "}\n",
    "]\n",
    "image_inputs, _ = process_vision_info(messages)\n",
    "\n",
    "caption = \"<|im_start|>assistant\\n<|vision_start|><|image_pad|><|vision_end|>\" + caption\n",
    "for i in range(8):\n",
    "    caption += f'[IMG{i}]'\n",
    "# caption += \"<|im_end|>\"  # gill does not append eos token to the end of [IMG] tokens.\n",
    "inputs = processor(\n",
    "    text=[caption],\n",
    "    images=image_inputs,\n",
    "    videos=None,\n",
    "    padding=True,\n",
    "    return_tensors=\"pt\"\n",
    ")\n",
    "tokens = inputs.input_ids[0]\n",
    "caption_len = inputs.attention_mask[0].sum()\n",
    "print(caption)\n",
    "tokens"
   ]
  },
  {
   "cell_type": "code",
   "execution_count": 10,
   "metadata": {},
   "outputs": [
    {
     "data": {
      "text/plain": [
       "'\\\\'"
      ]
     },
     "execution_count": 10,
     "metadata": {},
     "output_type": "execute_result"
    }
   ],
   "source": [
    "processor.decode(torch.tensor([59]))"
   ]
  },
  {
   "cell_type": "code",
   "execution_count": 11,
   "metadata": {},
   "outputs": [
    {
     "data": {
      "text/plain": [
       "torch.Size([96, 1176])"
      ]
     },
     "execution_count": 11,
     "metadata": {},
     "output_type": "execute_result"
    }
   ],
   "source": [
    "inputs.pixel_values.shape"
   ]
  },
  {
   "cell_type": "code",
   "execution_count": 12,
   "metadata": {},
   "outputs": [
    {
     "data": {
      "text/plain": [
       "tensor([[ 1, 12,  8]])"
      ]
     },
     "execution_count": 12,
     "metadata": {},
     "output_type": "execute_result"
    }
   ],
   "source": [
    "inputs.image_grid_thw"
   ]
  },
  {
   "cell_type": "code",
   "execution_count": null,
   "metadata": {},
   "outputs": [],
   "source": []
  }
 ],
 "metadata": {
  "kernelspec": {
   "display_name": "venv",
   "language": "python",
   "name": "python3"
  },
  "language_info": {
   "codemirror_mode": {
    "name": "ipython",
    "version": 3
   },
   "file_extension": ".py",
   "mimetype": "text/x-python",
   "name": "python",
   "nbconvert_exporter": "python",
   "pygments_lexer": "ipython3",
   "version": "3.9.19"
  }
 },
 "nbformat": 4,
 "nbformat_minor": 2
}
